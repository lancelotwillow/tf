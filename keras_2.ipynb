{
 "cells": [
  {
   "cell_type": "code",
   "execution_count": null,
   "metadata": {},
   "outputs": [],
   "source": [
    "import tensorflow as tf\n",
    "from tensorflow import keras\n",
    "import numpy as np\n",
    "tf.__version__"
   ]
  },
  {
   "cell_type": "markdown",
   "metadata": {},
   "source": [
    "### load internet movie review database\n",
    "each word is encoded with an index whcih is ranked by popularity<br>\n",
    "each sentense is represented with a list of integers"
   ]
  },
  {
   "cell_type": "code",
   "execution_count": 46,
   "metadata": {},
   "outputs": [],
   "source": [
    "imdb = keras.datasets.imdb\n",
    "(train_data, train_label), (test_data, test_label) = imdb.load_data(num_words=10000)"
   ]
  },
  {
   "cell_type": "code",
   "execution_count": 22,
   "metadata": {},
   "outputs": [
    {
     "name": "stdout",
     "output_type": "stream",
     "text": [
      "Training entries: 25000, labels: 25000\n"
     ]
    }
   ],
   "source": [
    "print(f\"Training entries: {len(train_data)}, labels: {len(train_label)}\")"
   ]
  },
  {
   "cell_type": "code",
   "execution_count": 8,
   "metadata": {},
   "outputs": [
    {
     "name": "stdout",
     "output_type": "stream",
     "text": [
      "Downloading data from https://storage.googleapis.com/tensorflow/tf-keras-datasets/imdb_word_index.json\n",
      "1646592/1641221 [==============================] - 0s 0us/step\n"
     ]
    }
   ],
   "source": [
    "word_index = imdb.get_word_index()\n",
    "\n",
    "# The first indices are reserved\n",
    "word_index = {k:(v+3) for k,v in word_index.items()} \n",
    "word_index[\"<PAD>\"] = 0\n",
    "word_index[\"<START>\"] = 1\n",
    "word_index[\"<UNK>\"] = 2  # unknown\n",
    "word_index[\"<UNUSED>\"] = 3\n",
    "reverse_word_index = dict([(value, key) for (key, value) in word_index.items()])\n",
    "def decode_review(text):\n",
    "    return ' '.join([reverse_word_index.get(i, '?') for i in text])"
   ]
  },
  {
   "cell_type": "markdown",
   "metadata": {},
   "source": [
    "### pad the data to length of 256, truncate or pad the value"
   ]
  },
  {
   "cell_type": "code",
   "execution_count": 58,
   "metadata": {},
   "outputs": [],
   "source": [
    "train_data = keras.preprocessing.sequence.pad_sequences(train_data,\n",
    "                                                        value=word_index[\"<PAD>\"],\n",
    "                                                        padding='post',\n",
    "                                                        maxlen=256)\n",
    "test_data = keras.preprocessing.sequence.pad_sequences(test_data,\n",
    "                                                       value=word_index[\"<PAD>\"],\n",
    "                                                       padding='post',\n",
    "                                                       maxlen=256)"
   ]
  },
  {
   "cell_type": "code",
   "execution_count": 26,
   "metadata": {},
   "outputs": [
    {
     "data": {
      "text/plain": [
       "25000"
      ]
     },
     "execution_count": 26,
     "metadata": {},
     "output_type": "execute_result"
    }
   ],
   "source": [
    "len(train_data)"
   ]
  },
  {
   "cell_type": "markdown",
   "metadata": {},
   "source": [
    "### build the model with 4 layers\n",
    "the embedding layer is used to convert a sequence to a vector, whihc takes 2-dimension input and output a 3-dimension output<br>\n",
    "the GAP layer is used to reduce 1 dimension from the input, where pool the average value, 3d -> 2d<br>\n",
    "the dense layer only consider the last index dimension"
   ]
  },
  {
   "cell_type": "code",
   "execution_count": 70,
   "metadata": {},
   "outputs": [
    {
     "name": "stdout",
     "output_type": "stream",
     "text": [
      "_________________________________________________________________\n",
      "Layer (type)                 Output Shape              Param #   \n",
      "=================================================================\n",
      "embedding_1 (Embedding)      (None, None, 16)          160000    \n",
      "_________________________________________________________________\n",
      "global_average_pooling1d_1 ( (None, 16)                0         \n",
      "_________________________________________________________________\n",
      "dense_2 (Dense)              (None, 16)                272       \n",
      "_________________________________________________________________\n",
      "dense_3 (Dense)              (None, 1)                 17        \n",
      "=================================================================\n",
      "Total params: 160,289\n",
      "Trainable params: 160,289\n",
      "Non-trainable params: 0\n",
      "_________________________________________________________________\n"
     ]
    }
   ],
   "source": [
    "vocab_size = 10000\n",
    "\n",
    "model = keras.Sequential()\n",
    "model.add(keras.layers.Embedding(vocab_size, 16))\n",
    "model.add(keras.layers.GlobalAveragePooling1D())\n",
    "model.add(keras.layers.Dense(16, activation=tf.nn.relu))\n",
    "model.add(keras.layers.Dense(1, activation=tf.nn.sigmoid))\n",
    "\n",
    "model.summary()"
   ]
  },
  {
   "cell_type": "markdown",
   "metadata": {},
   "source": [
    "### for the classification problem, using binary entropy to calculate the loss"
   ]
  },
  {
   "cell_type": "code",
   "execution_count": 71,
   "metadata": {},
   "outputs": [],
   "source": [
    "model.compile(optimizer='adam',\n",
    "              loss='binary_crossentropy',\n",
    "              metrics=['acc'])"
   ]
  },
  {
   "cell_type": "markdown",
   "metadata": {},
   "source": [
    "### add the validation data"
   ]
  },
  {
   "cell_type": "code",
   "execution_count": 60,
   "metadata": {},
   "outputs": [],
   "source": [
    "x_val = train_data[:10000]\n",
    "partial_x_train = train_data[10000:]\n",
    "\n",
    "y_val = train_label[:10000]\n",
    "partial_y_train = train_label[10000:]"
   ]
  },
  {
   "cell_type": "code",
   "execution_count": 72,
   "metadata": {},
   "outputs": [
    {
     "name": "stdout",
     "output_type": "stream",
     "text": [
      "Train on 15000 samples, validate on 10000 samples\n",
      "Epoch 1/40\n",
      "15000/15000 [==============================] - 1s 95us/sample - loss: 0.6919 - acc: 0.5579 - val_loss: 0.6898 - val_acc: 0.6051\n",
      "Epoch 2/40\n",
      "15000/15000 [==============================] - 1s 56us/sample - loss: 0.6859 - acc: 0.6278 - val_loss: 0.6816 - val_acc: 0.6514\n",
      "Epoch 3/40\n",
      "15000/15000 [==============================] - 1s 53us/sample - loss: 0.6730 - acc: 0.7107 - val_loss: 0.6661 - val_acc: 0.7141\n",
      "Epoch 4/40\n",
      "15000/15000 [==============================] - 1s 56us/sample - loss: 0.6512 - acc: 0.7454 - val_loss: 0.6416 - val_acc: 0.7654\n",
      "Epoch 5/40\n",
      "15000/15000 [==============================] - 1s 54us/sample - loss: 0.6197 - acc: 0.7856 - val_loss: 0.6081 - val_acc: 0.7858\n",
      "Epoch 6/40\n",
      "15000/15000 [==============================] - 1s 81us/sample - loss: 0.5788 - acc: 0.8078 - val_loss: 0.5678 - val_acc: 0.8067\n",
      "Epoch 7/40\n",
      "15000/15000 [==============================] - 1s 69us/sample - loss: 0.5320 - acc: 0.8323 - val_loss: 0.5241 - val_acc: 0.8221\n",
      "Epoch 8/40\n",
      "15000/15000 [==============================] - 1s 60us/sample - loss: 0.4839 - acc: 0.8485 - val_loss: 0.4819 - val_acc: 0.8357\n",
      "Epoch 9/40\n",
      "15000/15000 [==============================] - 1s 58us/sample - loss: 0.4386 - acc: 0.8630 - val_loss: 0.4441 - val_acc: 0.8427\n",
      "Epoch 10/40\n",
      "15000/15000 [==============================] - 1s 58us/sample - loss: 0.3988 - acc: 0.8748 - val_loss: 0.4123 - val_acc: 0.8530\n",
      "Epoch 11/40\n",
      "15000/15000 [==============================] - 1s 62us/sample - loss: 0.3651 - acc: 0.8837 - val_loss: 0.3875 - val_acc: 0.8581\n",
      "Epoch 12/40\n",
      "15000/15000 [==============================] - 1s 61us/sample - loss: 0.3365 - acc: 0.8900 - val_loss: 0.3666 - val_acc: 0.8649\n",
      "Epoch 13/40\n",
      "15000/15000 [==============================] - 1s 81us/sample - loss: 0.3130 - acc: 0.8970 - val_loss: 0.3500 - val_acc: 0.8692\n",
      "Epoch 14/40\n",
      "15000/15000 [==============================] - 1s 62us/sample - loss: 0.2925 - acc: 0.9015 - val_loss: 0.3376 - val_acc: 0.8695\n",
      "Epoch 15/40\n",
      "15000/15000 [==============================] - 1s 61us/sample - loss: 0.2746 - acc: 0.9065 - val_loss: 0.3262 - val_acc: 0.8760\n",
      "Epoch 16/40\n",
      "15000/15000 [==============================] - 1s 59us/sample - loss: 0.2591 - acc: 0.9117 - val_loss: 0.3178 - val_acc: 0.8760\n",
      "Epoch 17/40\n",
      "15000/15000 [==============================] - 1s 61us/sample - loss: 0.2453 - acc: 0.9172 - val_loss: 0.3106 - val_acc: 0.8799\n",
      "Epoch 18/40\n",
      "15000/15000 [==============================] - 1s 62us/sample - loss: 0.2329 - acc: 0.9211 - val_loss: 0.3047 - val_acc: 0.8803\n",
      "Epoch 19/40\n",
      "15000/15000 [==============================] - 1s 60us/sample - loss: 0.2213 - acc: 0.9243 - val_loss: 0.3003 - val_acc: 0.8797\n",
      "Epoch 20/40\n",
      "15000/15000 [==============================] - 1s 62us/sample - loss: 0.2109 - acc: 0.9287 - val_loss: 0.2961 - val_acc: 0.8825\n",
      "Epoch 21/40\n",
      "15000/15000 [==============================] - 1s 94us/sample - loss: 0.2014 - acc: 0.9319 - val_loss: 0.2930 - val_acc: 0.8837\n",
      "Epoch 22/40\n",
      "15000/15000 [==============================] - 1s 63us/sample - loss: 0.1921 - acc: 0.9364 - val_loss: 0.2904 - val_acc: 0.8835\n",
      "Epoch 23/40\n",
      "15000/15000 [==============================] - 1s 64us/sample - loss: 0.1839 - acc: 0.9394 - val_loss: 0.2919 - val_acc: 0.8826\n",
      "Epoch 24/40\n",
      "15000/15000 [==============================] - 1s 63us/sample - loss: 0.1763 - acc: 0.9438 - val_loss: 0.2874 - val_acc: 0.8845\n",
      "Epoch 25/40\n",
      "15000/15000 [==============================] - 1s 61us/sample - loss: 0.1683 - acc: 0.9461 - val_loss: 0.2866 - val_acc: 0.8850\n",
      "Epoch 26/40\n",
      "15000/15000 [==============================] - 1s 64us/sample - loss: 0.1611 - acc: 0.9495 - val_loss: 0.2868 - val_acc: 0.8850\n",
      "Epoch 27/40\n",
      "15000/15000 [==============================] - 1s 79us/sample - loss: 0.1549 - acc: 0.9523 - val_loss: 0.2863 - val_acc: 0.8866\n",
      "Epoch 28/40\n",
      "15000/15000 [==============================] - 1s 91us/sample - loss: 0.1489 - acc: 0.9537 - val_loss: 0.2868 - val_acc: 0.8869\n",
      "Epoch 29/40\n",
      "15000/15000 [==============================] - 1s 64us/sample - loss: 0.1425 - acc: 0.9578 - val_loss: 0.2883 - val_acc: 0.8854\n",
      "Epoch 30/40\n",
      "15000/15000 [==============================] - 1s 59us/sample - loss: 0.1369 - acc: 0.9583 - val_loss: 0.2892 - val_acc: 0.8858\n",
      "Epoch 31/40\n",
      "15000/15000 [==============================] - 1s 61us/sample - loss: 0.1317 - acc: 0.9607 - val_loss: 0.2901 - val_acc: 0.8855\n",
      "Epoch 32/40\n",
      "15000/15000 [==============================] - 1s 66us/sample - loss: 0.1263 - acc: 0.9633 - val_loss: 0.2915 - val_acc: 0.8858\n",
      "Epoch 33/40\n",
      "15000/15000 [==============================] - 1s 56us/sample - loss: 0.1212 - acc: 0.9665 - val_loss: 0.2927 - val_acc: 0.8853\n",
      "Epoch 34/40\n",
      "15000/15000 [==============================] - 1s 60us/sample - loss: 0.1168 - acc: 0.9677 - val_loss: 0.2954 - val_acc: 0.8854\n",
      "Epoch 35/40\n",
      "15000/15000 [==============================] - 1s 58us/sample - loss: 0.1121 - acc: 0.9691 - val_loss: 0.2990 - val_acc: 0.8836\n",
      "Epoch 36/40\n",
      "15000/15000 [==============================] - 1s 52us/sample - loss: 0.1082 - acc: 0.9693 - val_loss: 0.3002 - val_acc: 0.8841\n",
      "Epoch 37/40\n",
      "15000/15000 [==============================] - 1s 48us/sample - loss: 0.1036 - acc: 0.9725 - val_loss: 0.3025 - val_acc: 0.8842\n",
      "Epoch 38/40\n",
      "15000/15000 [==============================] - 2s 100us/sample - loss: 0.0997 - acc: 0.9735 - val_loss: 0.3052 - val_acc: 0.8842\n",
      "Epoch 39/40\n",
      "15000/15000 [==============================] - 2s 107us/sample - loss: 0.0959 - acc: 0.9745 - val_loss: 0.3082 - val_acc: 0.8843\n",
      "Epoch 40/40\n",
      "15000/15000 [==============================] - 1s 82us/sample - loss: 0.0923 - acc: 0.9767 - val_loss: 0.3114 - val_acc: 0.8833\n"
     ]
    }
   ],
   "source": [
    "history = model.fit(partial_x_train,\n",
    "                    partial_y_train,\n",
    "                    epochs=40,\n",
    "                    batch_size=512,\n",
    "                    validation_data=(x_val, y_val),\n",
    "                    verbose=1)"
   ]
  },
  {
   "cell_type": "code",
   "execution_count": 62,
   "metadata": {},
   "outputs": [],
   "source": [
    "test_data = keras.preprocessing.sequence.pad_sequences(test_data,\n",
    "                                                       value=word_index[\"<PAD>\"],\n",
    "                                                       padding='post',\n",
    "                                                       maxlen=256)"
   ]
  },
  {
   "cell_type": "code",
   "execution_count": 73,
   "metadata": {},
   "outputs": [
    {
     "name": "stdout",
     "output_type": "stream",
     "text": [
      "25000/25000 [==============================] - 2s 62us/sample - loss: 0.3318 - acc: 0.8716\n"
     ]
    },
    {
     "data": {
      "text/plain": [
       "[0.33182385612010956, 0.87164]"
      ]
     },
     "execution_count": 73,
     "metadata": {},
     "output_type": "execute_result"
    }
   ],
   "source": [
    "model.evaluate(test_data, test_label)"
   ]
  },
  {
   "cell_type": "code",
   "execution_count": 74,
   "metadata": {},
   "outputs": [
    {
     "data": {
      "text/plain": [
       "dict_keys(['loss', 'acc', 'val_loss', 'val_acc'])"
      ]
     },
     "execution_count": 74,
     "metadata": {},
     "output_type": "execute_result"
    }
   ],
   "source": [
    "history_dict = history.history\n",
    "history_dict.keys()"
   ]
  },
  {
   "cell_type": "markdown",
   "metadata": {},
   "source": [
    "### plot for accuracy and loss function for the training and validation set"
   ]
  },
  {
   "cell_type": "code",
   "execution_count": 75,
   "metadata": {},
   "outputs": [
    {
     "data": {
      "image/png": "[encoded data removed]",
      "text/plain": [
       "<Figure size 432x288 with 1 Axes>"
      ]
     },
     "metadata": {
      "needs_background": "light"
     },
     "output_type": "display_data"
    }
   ],
   "source": [
    "import matplotlib.pyplot as plt\n",
    "\n",
    "acc = history_dict['acc']\n",
    "val_acc = history_dict['val_acc']\n",
    "loss = history_dict['loss']\n",
    "val_loss = history_dict['val_loss']\n",
    "\n",
    "epochs = range(1, len(acc) + 1)\n",
    "\n",
    "# \"bo\" is for \"blue dot\"\n",
    "plt.plot(epochs, loss, 'bo', label='Training loss')\n",
    "# b is for \"solid blue line\"\n",
    "plt.plot(epochs, val_loss, 'b', label='Validation loss')\n",
    "plt.title('Training and validation loss')\n",
    "plt.xlabel('Epochs')\n",
    "plt.ylabel('Loss')\n",
    "plt.legend()\n",
    "\n",
    "plt.show();"
   ]
  },
  {
   "cell_type": "code",
   "execution_count": 77,
   "metadata": {},
   "outputs": [
    {
     "data": {
      "image/png": "[encoded data removed]",
      "text/plain": [
       "<Figure size 432x288 with 1 Axes>"
      ]
     },
     "metadata": {
      "needs_background": "light"
     },
     "output_type": "display_data"
    }
   ],
   "source": [
    "plt.clf()   # clear figure\n",
    "\n",
    "plt.plot(epochs, acc, 'bo', label='Training acc')\n",
    "plt.plot(epochs, val_acc, 'b', label='Validation acc')\n",
    "plt.title('Training and validation accuracy')\n",
    "plt.xlabel('Epochs')\n",
    "plt.ylabel('Accuracy')\n",
    "plt.legend()\n",
    "\n",
    "plt.show()\n"
   ]
  }
 ],
 "metadata": {
  "kernelspec": {
   "display_name": "Python 3",
   "language": "python",
   "name": "python3"
  },
  "language_info": {
   "codemirror_mode": {
    "name": "ipython",
    "version": 3
   },
   "file_extension": ".py",
   "mimetype": "text/x-python",
   "name": "python",
   "nbconvert_exporter": "python",
   "pygments_lexer": "ipython3",
   "version": "3.7.3"
  }
 },
 "nbformat": 4,
 "nbformat_minor": 2
}
